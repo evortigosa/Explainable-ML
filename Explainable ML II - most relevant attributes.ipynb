{
 "cells": [
  {
   "cell_type": "markdown",
   "metadata": {},
   "source": [
    "$$\\fbox{Global Model} \\rightarrow \\fbox{Most Relevant Attributes} \\rightarrow \\fbox{Extract Attribute Patterns} \\rightarrow \\fbox{Analyzing Patterns}$$\n",
    "\n",
    "#### Global Model:\n",
    "- Random Tree\n",
    "\n",
    "#### Most Relevant Attributes:\n",
    "- sample the neighborhood of each point (original point)\n",
    "- classify the samples with the Global Model\n",
    "- build local models (random tree fitted in the sampled points)\n",
    "- extract the k% most relevant attributes for each instance (this gives rise to a binary array)\n",
    "\n",
    "#### Extract Attribute Patterns:\n",
    "- split the binary representation of relevant attributes per class\n",
    "- filter out the binary representation of relevant attributes to extrat patterns\n",
    "\n",
    "#### Analyzing Patterns:\n",
    "- patterns from each class are compared to find similarities and discrepancies "
   ]
  },
  {
   "cell_type": "code",
   "execution_count": 1,
   "metadata": {},
   "outputs": [],
   "source": [
    "import sys\n",
    "import numpy as np\n",
    "import pandas as pd\n",
    "from scipy import stats\n",
    "#from sklearn import datasets\n",
    "from sklearn.tree import DecisionTreeClassifier\n",
    "from sklearn.ensemble import RandomForestClassifier\n",
    "\n",
    "from sklearn import cluster\n",
    "\n",
    "import matplotlib.pyplot as plt\n",
    "#%matplotlib notebook\n",
    "%matplotlib inline"
   ]
  },
  {
   "cell_type": "markdown",
   "metadata": {},
   "source": [
    "## Reading data"
   ]
  },
  {
   "cell_type": "code",
   "execution_count": 2,
   "metadata": {},
   "outputs": [
    {
     "name": "stdout",
     "output_type": "stream",
     "text": [
      "(10459, 23)\n"
     ]
    }
   ],
   "source": [
    "df = pd.read_csv(\"Data/heloc_dataset_v1.csv\")\n",
    "\n",
    "X_data = df.iloc[:,1:].values\n",
    "X_data = stats.zscore(X_data,axis=0)\n",
    "Y_classes = np.asarray([1 if df.iloc[i,0] == \"Good\" else 0 for i in range(df.shape[0])],dtype=int)\n",
    "\n",
    "print(X_data.shape)"
   ]
  },
  {
   "cell_type": "markdown",
   "metadata": {},
   "source": [
    "## Creating a model by fitting a random forest to the data"
   ]
  },
  {
   "cell_type": "code",
   "execution_count": 3,
   "metadata": {},
   "outputs": [
    {
     "name": "stdout",
     "output_type": "stream",
     "text": [
      "RdF  2551 misclassified data out of 10459 ( 24.390477101061286 %)\n"
     ]
    }
   ],
   "source": [
    "rdf = RandomForestClassifier(max_depth=7, n_estimators=15,bootstrap=False)\n",
    "rdf.fit(X_data,Y_classes)\n",
    "rdf_pred = rdf.predict(X_data)\n",
    "rdf_error = np.sum([int(rdf_pred[i] != Y_classes[i]) for i in range(X_data.shape[0])])\n",
    "print(\"RdF \",rdf_error, \"misclassified data out of\", X_data.shape[0], \"(\",100*(rdf_error/X_data.shape[0]),\"%)\")"
   ]
  },
  {
   "cell_type": "markdown",
   "metadata": {},
   "source": [
    "## Generating new data around each object from the original data and computing relevant attributes"
   ]
  },
  {
   "cell_type": "code",
   "execution_count": 4,
   "metadata": {},
   "outputs": [
    {
     "name": "stdout",
     "output_type": "stream",
     "text": [
      "number of attributes 5\n"
     ]
    }
   ],
   "source": [
    "# number of points generated in the neighborhood of each objetct\n",
    "n_extras = 50 \n",
    "\n",
    "# number/percentage of attributes to be considered as the most relevants\n",
    "percent = 0.20\n",
    "k_attributes = np.rint(percent*X_data.shape[1]).astype(int) \n",
    "print('number of attributes',k_attributes)\n",
    "\n",
    "# 3D array where extra_neighbors[i] is the matrix containing the new data around X_data[i]\n",
    "extra_neighbors = np.zeros((X_data.shape[0],n_extras,X_data.shape[1]))\n",
    "\n",
    "# 2D array where the row extra_neighbors_class[i] corresponds to the classes of the extra neighbors of X_data[i]\n",
    "extra_neighbors_class = np.zeros((X_data.shape[0],n_extras))\n",
    "\n",
    "# 2D array where relev_attributes[i,j] == 1 if attribute j is relevant to object i\n",
    "relev_attributes = np.zeros((X_data.shape[0],X_data.shape[1]))\n",
    "\n",
    "# computing variance of each attribute in each class (used to define the Normal distribution around each object X_data[i])\n",
    "classes = np.unique(Y_classes)\n",
    "variances = np.zeros((len(classes),X_data.shape[1]))\n",
    "for i in classes:\n",
    "    cids = np.where(Y_classes == i)[0]\n",
    "    variances[i]=np.std(X_data[cids],axis=0)\n",
    "\n",
    "for i in range(X_data.shape[0]):\n",
    "    # computing the covariace matriz used in the normal distribution\n",
    "    S = np.multiply(np.identity(X_data.shape[1]),variances[Y_classes[i]]**2)\n",
    "    \n",
    "    # generating the extra neighbors from a normal distribution\n",
    "    extra_neighbors[i] = np.random.multivariate_normal(X_data[i],S,size=n_extras)\n",
    "    \n",
    "    # predicting the class of extra_neighbors\n",
    "    extra_neighbors_class = rdf.predict(extra_neighbors[i])\n",
    "    \n",
    "    # fitting a random forest to the extra_neighbors\n",
    "    # getting the k_attributes most important from the rdf \n",
    "    rdfs = RandomForestClassifier(max_depth=5, n_estimators=15,bootstrap=True)\n",
    "    rdfs.fit(extra_neighbors[i],extra_neighbors_class)\n",
    "    attribute_relevance = rdfs.feature_importances_\n",
    "    indices = np.argsort(attribute_relevance)[-k_attributes:]\n",
    "    relev_attributes[i,indices] = np.ones((k_attributes,)) \n",
    "    "
   ]
  },
  {
   "cell_type": "markdown",
   "metadata": {},
   "source": [
    "## Visualizing the most relevant attributes object-wise"
   ]
  },
  {
   "cell_type": "code",
   "execution_count": 10,
   "metadata": {},
   "outputs": [],
   "source": [
    "classes = np.unique(Y_classes)\n",
    "nclusters = 6\n",
    "\n",
    "def group_pattern(GP):\n",
    "    group = cluster.KMeans(n_clusters=nclusters)\n",
    "    group.fit(GP)\n",
    "    gp_lbs = group.labels_\n",
    "    gp_lbs_unique = np.unique(gp_lbs)\n",
    "    gp_list = []\n",
    "    for j in gp_lbs_unique:\n",
    "        gp_list.append(GP[np.where(gp_lbs == j)[0]])\n",
    "    g = gp_list[0]\n",
    "    for i in range(1,len(gp_list)):\n",
    "        g = np.vstack((g,gp_list[i]))        \n",
    "    return(g)\n",
    "        \n",
    "\n",
    "\n",
    "n = X_data.shape[0]\n",
    "\n",
    "# this list keep the relevant attributes of each class. The last elements are all classes together\n",
    "rel_attrib_per_class = []\n",
    "\n",
    "# each elemenyt of this list stores the indices of the patterns in a class\n",
    "patterns_per_class = []\n",
    "\n",
    "# each element is a dictionary: Key is the pattern index; Content is a list ids of those patterns in np.where(Y_classes==classes[i])[0]\n",
    "pattern_ids_per_class = []\n",
    "\n",
    "for i in range(len(classes)):\n",
    "    cids = np.where(Y_classes==classes[i])[0]\n",
    "    crel = relev_attributes[cids]\n",
    "    #dbc = cluster.AgglomerativeClustering(n_clusters=5, linkage='single')\n",
    "    #dbc.fit(np.multiply(crel,X_data[cids]))\n",
    "    dbc = cluster.KMeans(n_clusters=nclusters)\n",
    "    dbc.fit(crel)\n",
    "    \n",
    "    cl_db = dbc.labels_\n",
    "    cl_db_unique = np.unique(cl_db)\n",
    "    pattern_locations = np.zeros((nclusters,),dtype=int)\n",
    "    pattern_prev = 0\n",
    "    pattern_ids = {}\n",
    "    for k,j in enumerate(cl_db_unique):\n",
    "        where = np.where(cl_db == j)[0]\n",
    "        temp = crel[where]\n",
    "        temp = group_pattern(temp)\n",
    "        pattern_ids[k] = where\n",
    "        #print(\"cluster \", j,temp.shape)\n",
    "        if k == 0:\n",
    "            pattern_locations[0] = len(temp)\n",
    "            extracted_rel_attrib = temp\n",
    "        else:\n",
    "            pattern_locations[k] = pattern_locations[k-1]+len(temp)\n",
    "            extracted_rel_attrib = np.vstack((extracted_rel_attrib,temp))\n",
    "    patterns_per_class.append(pattern_locations)\n",
    "    rel_attrib_per_class.append(extracted_rel_attrib)\n",
    "    pattern_ids_per_class.append(pattern_ids)"
   ]
  },
  {
   "cell_type": "code",
   "execution_count": 11,
   "metadata": {},
   "outputs": [
    {
     "data": {
      "image/png": "[encoded data removed]",
      "text/plain": [
       "<Figure size 1080x576 with 2 Axes>"
      ]
     },
     "metadata": {
      "needs_background": "light"
     },
     "output_type": "display_data"
    }
   ],
   "source": [
    "plt.figure(2,figsize=(15,8))\n",
    "\n",
    "for i in range(len(rel_attrib_per_class)):\n",
    "    # support 3 classes only\n",
    "    if i == 0:\n",
    "        plt.subplot(1,5,1)\n",
    "        plt.title('class 0')\n",
    "    else:\n",
    "        plt.subplot(1,5,i*2+1)\n",
    "        if i == 1:\n",
    "            plt.title('class 1')\n",
    "        else:\n",
    "            plt.title('class 0 and 1')\n",
    "    plt.imshow(rel_attrib_per_class[i],cmap='gray',aspect='auto')\n"
   ]
  },
  {
   "cell_type": "markdown",
   "metadata": {},
   "source": [
    "## Filtering out relevant attributes "
   ]
  },
  {
   "cell_type": "code",
   "execution_count": 12,
   "metadata": {},
   "outputs": [],
   "source": [
    "from sklearn.decomposition import PCA\n",
    "from scipy.spatial import distance_matrix\n",
    "from skimage import filters"
   ]
  },
  {
   "cell_type": "markdown",
   "metadata": {},
   "source": [
    "### Morphologyical Filtering"
   ]
  },
  {
   "cell_type": "code",
   "execution_count": 13,
   "metadata": {},
   "outputs": [],
   "source": [
    "# Filtering using morphology\n",
    "\n",
    "def longer_than(v,k):\n",
    "    c = np.zeros((v.shape[0],1))\n",
    "    for i in range(v.shape[0]):\n",
    "        if (np.sum(v[i-k:i])+np.sum(v[i:i+k])) >= k+2:\n",
    "            c[i]=1\n",
    "        else:\n",
    "            c[i]=0\n",
    "    return(c)\n",
    "\n",
    "filtered_rel_attrib_per_class = []\n",
    "for i in range(len(rel_attrib_per_class)):\n",
    "    for j in range(X_data.shape[1]):\n",
    "        if j == 0:\n",
    "            temp = longer_than(rel_attrib_per_class[i][:,j],5)\n",
    "        else:\n",
    "            temp = np.hstack((temp,longer_than(rel_attrib_per_class[i][:,j],7)))\n",
    "            \n",
    "    filtered_rel_attrib_per_class.append(temp)"
   ]
  },
  {
   "cell_type": "code",
   "execution_count": 14,
   "metadata": {},
   "outputs": [
    {
     "data": {
      "image/png": "[encoded data removed]",
      "text/plain": [
       "<Figure size 1080x576 with 2 Axes>"
      ]
     },
     "metadata": {
      "needs_background": "light"
     },
     "output_type": "display_data"
    }
   ],
   "source": [
    "plt.figure(3,figsize=(15,8))\n",
    "\n",
    "for i in range(len(filtered_rel_attrib_per_class)):\n",
    "    # support 3 classes only\n",
    "    c_rgb = np.zeros((filtered_rel_attrib_per_class[i].shape[0],filtered_rel_attrib_per_class[i].shape[1],3))\n",
    "    c_rgb[:,:,0]=1*filtered_rel_attrib_per_class[i][:,:]\n",
    "    c_rgb[:,:,1]=0.5*filtered_rel_attrib_per_class[i][:,:]\n",
    "    if i == 0:\n",
    "        plt.subplot(1,5,1)\n",
    "        plt.title('class 0')\n",
    "    else:\n",
    "        plt.subplot(1,5,i*2+1)\n",
    "        if i == 1:\n",
    "            plt.title('class 1')\n",
    "        else:\n",
    "            plt.title('class 0 and 1')\n",
    "\n",
    "    #plt.imshow(filtered_rel_attrib_per_class[i],cmap='gray',aspect='auto')\n",
    "    plt.imshow(c_rgb,interpolation='none',aspect='auto')"
   ]
  },
  {
   "cell_type": "markdown",
   "metadata": {},
   "source": [
    "## Finding relevat attributes shared by classes"
   ]
  },
  {
   "cell_type": "code",
   "execution_count": 16,
   "metadata": {},
   "outputs": [],
   "source": [
    "centroids = [] \n",
    "for i in range(len(filtered_rel_attrib_per_class)):\n",
    "    prev = 0\n",
    "    patterns_centroids = np.zeros((nclusters,X_data.shape[1]))\n",
    "    for j in range(nclusters):\n",
    "        #print(i,j,patterns_per_class[i][j])\n",
    "        patterns_centroids[j] = np.mean(filtered_rel_attrib_per_class[i][prev:patterns_per_class[i][j]],axis=0)\n",
    "        prev = patterns_per_class[i][j]\n",
    "    centroids.append(patterns_centroids)"
   ]
  },
  {
   "cell_type": "code",
   "execution_count": 17,
   "metadata": {},
   "outputs": [
    {
     "data": {
      "image/png": "[encoded data removed]",
      "text/plain": [
       "<Figure size 432x432 with 1 Axes>"
      ]
     },
     "metadata": {
      "needs_background": "light"
     },
     "output_type": "display_data"
    }
   ],
   "source": [
    "plt.figure(4,figsize=(6,6))\n",
    "color = ['r','b','g']\n",
    "\n",
    "for i in range(len(filtered_rel_attrib_per_class)):\n",
    "    pca_data=PCA(n_components=2)\n",
    "    data_proj=pca_data.fit_transform(centroids[i])\n",
    "    plt.scatter(data_proj[:,0],data_proj[:,1],c=color[i])"
   ]
  },
  {
   "cell_type": "code",
   "execution_count": 19,
   "metadata": {},
   "outputs": [
    {
     "name": "stdout",
     "output_type": "stream",
     "text": [
      "[2 0 3 1 3 4]\n",
      "[0.41482737 0.36134559 0.37677887 0.21424158 1.13997645 0.87023441]\n"
     ]
    }
   ],
   "source": [
    "D = distance_matrix(centroids[0],centroids[1])\n",
    "D = D + 1.0e7*np.eye(D.shape[0])\n",
    "\n",
    "similar_patterns = np.argmin(D,axis=1)\n",
    "print(similar_patterns)\n",
    "print(D[list(range(D.shape[0])),similar_patterns])"
   ]
  },
  {
   "cell_type": "code",
   "execution_count": 13,
   "metadata": {},
   "outputs": [],
   "source": [
    "cids_c0 = X_data[np.where(Y_classes==classes[0])[0]]\n",
    "cids_c1 = X_data[np.where(Y_classes==classes[1])[0]]\n",
    "\n",
    "# A = filtered_rel_attrib_per_class[0][0:patterns_per_class[0][0]]\n",
    "# B = cids_c0[pattern_ids_per_class[0][0]]\n",
    "# rel_attrib_values_c0_pattern = np.multiply(A,B)\n",
    "# C = filtered_rel_attrib_per_class[1][patterns_per_class[1][1]:patterns_per_class[1][2]]\n",
    "# D = cids_c1[pattern_ids_per_class[1][2]]\n",
    "# rel_attrib_values_c1_pattern = np.multiply(C,D)\n",
    "\n",
    "A = filtered_rel_attrib_per_class[0][patterns_per_class[0][-3]:patterns_per_class[0][-2]]\n",
    "B = cids_c0[pattern_ids_per_class[0][5]]\n",
    "rel_attrib_values_c0_pattern = np.multiply(A,B)\n",
    "C = filtered_rel_attrib_per_class[1][0:patterns_per_class[1][0]]\n",
    "D = cids_c1[pattern_ids_per_class[1][0]]\n",
    "rel_attrib_values_c1_pattern = np.multiply(C,D)\n",
    "\n",
    "# A = filtered_rel_attrib_per_class[0][patterns_per_class[0][-2]:patterns_per_class[0][-1]]\n",
    "# B = cids_c0[pattern_ids_per_class[0][6]]\n",
    "# rel_attrib_values_c0_pattern = np.multiply(A,B)\n",
    "# C = filtered_rel_attrib_per_class[1][patterns_per_class[1][3]:patterns_per_class[1][4]]\n",
    "# D = cids_c1[pattern_ids_per_class[1][4]]\n",
    "# rel_attrib_values_c1_pattern = np.multiply(C,D)\n",
    "\n",
    "#plt.imshow(C,cmap='gray',aspect='auto')"
   ]
  },
  {
   "cell_type": "code",
   "execution_count": 14,
   "metadata": {},
   "outputs": [
    {
     "data": {
      "text/plain": [
       "<matplotlib.image.AxesImage at 0x10d536588>"
      ]
     },
     "execution_count": 14,
     "metadata": {},
     "output_type": "execute_result"
    },
    {
     "data": {
      "image/png": "[encoded data removed]",
      "text/plain": [
       "<Figure size 1080x576 with 2 Axes>"
      ]
     },
     "metadata": {
      "needs_background": "light"
     },
     "output_type": "display_data"
    }
   ],
   "source": [
    "plt.figure(6,figsize=(15,8))\n",
    "plt.subplot(1,3,1)\n",
    "plt.imshow(A,cmap='gray',aspect='auto')\n",
    "plt.subplot(1,3,2)\n",
    "plt.imshow(C,cmap='gray',aspect='auto')"
   ]
  },
  {
   "cell_type": "code",
   "execution_count": 15,
   "metadata": {},
   "outputs": [
    {
     "data": {
      "image/png": "[encoded data removed]",
      "text/plain": [
       "<Figure size 1080x576 with 2 Axes>"
      ]
     },
     "metadata": {
      "needs_background": "light"
     },
     "output_type": "display_data"
    }
   ],
   "source": [
    "plt.figure(7,figsize=(15,8))\n",
    "\n",
    "plt.subplot(1,3,1)\n",
    "# plt.boxplot(A);\n",
    "# plt.subplot(1,3,2)\n",
    "plt.boxplot(rel_attrib_values_c0_pattern);\n",
    "\n",
    "\n",
    "plt.subplot(1,3,2)\n",
    "plt.boxplot(rel_attrib_values_c1_pattern);"
   ]
  }
 ],
 "metadata": {
  "kernelspec": {
   "display_name": "Python 3",
   "language": "python",
   "name": "python3"
  },
  "language_info": {
   "codemirror_mode": {
    "name": "ipython",
    "version": 3
   },
   "file_extension": ".py",
   "mimetype": "text/x-python",
   "name": "python",
   "nbconvert_exporter": "python",
   "pygments_lexer": "ipython3",
   "version": "3.7.1"
  }
 },
 "nbformat": 4,
 "nbformat_minor": 2
}
